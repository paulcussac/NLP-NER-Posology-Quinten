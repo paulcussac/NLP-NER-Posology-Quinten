{
 "cells": [
  {
   "cell_type": "markdown",
   "metadata": {},
   "source": [
    "## Import libraries and define parameters"
   ]
  },
  {
   "cell_type": "code",
   "execution_count": 1,
   "metadata": {},
   "outputs": [
    {
     "name": "stderr",
     "output_type": "stream",
     "text": [
      "/Library/Frameworks/Python.framework/Versions/3.9/lib/python3.9/site-packages/tqdm/auto.py:22: TqdmWarning: IProgress not found. Please update jupyter and ipywidgets. See https://ipywidgets.readthedocs.io/en/stable/user_install.html\n",
      "  from .autonotebook import tqdm as notebook_tqdm\n"
     ]
    }
   ],
   "source": [
    "import os\n",
    "import sys  \n",
    "\n",
    "from tqdm import tqdm\n",
    "\n",
    "import pandas as pd\n",
    "import numpy as np\n",
    "import json\n",
    "import re\n",
    "\n",
    "import nlpaug.augmenter.word as naw"
   ]
  },
  {
   "cell_type": "code",
   "execution_count": 2,
   "metadata": {},
   "outputs": [],
   "source": [
    "os.chdir('/Users/Antoine/data_science_projects/3_nlp/drug_prescription_understanding')\n",
    "from src.data_augmentation.back_translation import find_position, process\n",
    "from src.Utils.utils import read_jsonl_df\n",
    "os.chdir('/Users/Antoine/data_science_projects/3_nlp/drug_prescription_understanding/notebooks')"
   ]
  },
  {
   "cell_type": "code",
   "execution_count": 6,
   "metadata": {},
   "outputs": [],
   "source": [
    "DATA_PATH = \"/Users/Antoine/Desktop/Cours/X-HEC/HEC/Cours/Quinten - drug prescription\""
   ]
  },
  {
   "cell_type": "markdown",
   "metadata": {},
   "source": [
    "## Import and shape data"
   ]
  },
  {
   "cell_type": "code",
   "execution_count": 4,
   "metadata": {},
   "outputs": [
    {
     "name": "stderr",
     "output_type": "stream",
     "text": [
      "100%|██████████| 567/567 [00:13<00:00, 41.32it/s] \n"
     ]
    },
    {
     "name": "stdout",
     "output_type": "stream",
     "text": [
      "(567, 4)\n"
     ]
    },
    {
     "data": {
      "text/html": [
       "<div>\n",
       "<style scoped>\n",
       "    .dataframe tbody tr th:only-of-type {\n",
       "        vertical-align: middle;\n",
       "    }\n",
       "\n",
       "    .dataframe tbody tr th {\n",
       "        vertical-align: top;\n",
       "    }\n",
       "\n",
       "    .dataframe thead th {\n",
       "        text-align: right;\n",
       "    }\n",
       "</style>\n",
       "<table border=\"1\" class=\"dataframe\">\n",
       "  <thead>\n",
       "    <tr style=\"text-align: right;\">\n",
       "      <th></th>\n",
       "      <th>id</th>\n",
       "      <th>text</th>\n",
       "      <th>labels</th>\n",
       "      <th>comments</th>\n",
       "    </tr>\n",
       "  </thead>\n",
       "  <tbody>\n",
       "    <tr>\n",
       "      <th>0</th>\n",
       "      <td>1</td>\n",
       "      <td>Un homme âgé de 77 ans présentait des signes c...</td>\n",
       "      <td>[[692, 712, Treatment]]</td>\n",
       "      <td>[]</td>\n",
       "    </tr>\n",
       "    <tr>\n",
       "      <th>1</th>\n",
       "      <td>2</td>\n",
       "      <td>Mr. R,R âgé de 53 ans sans antécédents patholo...</td>\n",
       "      <td>[[1224, 1237, Treatment]]</td>\n",
       "      <td>[]</td>\n",
       "    </tr>\n",
       "    <tr>\n",
       "      <th>2</th>\n",
       "      <td>3</td>\n",
       "      <td>Un homme de 47 ans aux antécédents d’infarctus...</td>\n",
       "      <td>[]</td>\n",
       "      <td>[]</td>\n",
       "    </tr>\n",
       "    <tr>\n",
       "      <th>3</th>\n",
       "      <td>4</td>\n",
       "      <td>Mme C.S..., âgée de 25 ans, célibataire, sans ...</td>\n",
       "      <td>[]</td>\n",
       "      <td>[]</td>\n",
       "    </tr>\n",
       "    <tr>\n",
       "      <th>4</th>\n",
       "      <td>5</td>\n",
       "      <td>Un adénocarcinome prostatique avait été diagno...</td>\n",
       "      <td>[[183, 196, Treatment], [1374, 1388, Treatment...</td>\n",
       "      <td>[]</td>\n",
       "    </tr>\n",
       "  </tbody>\n",
       "</table>\n",
       "</div>"
      ],
      "text/plain": [
       "   id                                               text  \\\n",
       "0   1  Un homme âgé de 77 ans présentait des signes c...   \n",
       "1   2  Mr. R,R âgé de 53 ans sans antécédents patholo...   \n",
       "2   3  Un homme de 47 ans aux antécédents d’infarctus...   \n",
       "3   4  Mme C.S..., âgée de 25 ans, célibataire, sans ...   \n",
       "4   5  Un adénocarcinome prostatique avait été diagno...   \n",
       "\n",
       "                                              labels comments  \n",
       "0                            [[692, 712, Treatment]]       []  \n",
       "1                          [[1224, 1237, Treatment]]       []  \n",
       "2                                                 []       []  \n",
       "3                                                 []       []  \n",
       "4  [[183, 196, Treatment], [1374, 1388, Treatment...       []  "
      ]
     },
     "execution_count": 4,
     "metadata": {},
     "output_type": "execute_result"
    }
   ],
   "source": [
    "with open(os.path.join(DATA_PATH, 'trainset.jsonl'), 'r') as json_file:\n",
    "    json_list = list(json_file)\n",
    "ids = np.array([])\n",
    "texts = np.array([])\n",
    "labels = []\n",
    "comments = []\n",
    "\n",
    "for json_str in tqdm(json_list):\n",
    "    result = json.loads(json_str)\n",
    "    ids = np.append(ids, result['id'])\n",
    "    texts = np.append(texts, result['text'])\n",
    "    labels.append(result['labels'])\n",
    "    comments.append(result['Comments'])\n",
    "df = pd.DataFrame([ids, texts, labels, comments]).T\n",
    "df.columns = ['id', 'text', 'labels', 'comments']\n",
    "df.id = df.id.astype(int)\n",
    "\n",
    "print(df.shape)\n",
    "df.head()"
   ]
  },
  {
   "cell_type": "code",
   "execution_count": 5,
   "metadata": {},
   "outputs": [],
   "source": [
    "# Explode the labelled word in columns\n",
    "# OPTIONAL\n",
    "#for index, row in tqdm(df.iterrows()):\n",
    "#    text = df.text[index]\n",
    "#    for label in df.labels[index]:\n",
    "#        type = label[-1]\n",
    "#        df.at[index, f\"{type}\"] = text[label[0]: label[1]]\n",
    "#df.head()"
   ]
  },
  {
   "cell_type": "markdown",
   "metadata": {},
   "source": [
    "## Apply model\n",
    "### We use a back translation model taken from nlpaug"
   ]
  },
  {
   "cell_type": "code",
   "execution_count": 6,
   "metadata": {},
   "outputs": [],
   "source": [
    "back_translation_aug = naw.BackTranslationAug(\n",
    "    from_model_name='Helsinki-NLP/opus-mt-fr-en', \n",
    "    to_model_name='Helsinki-NLP/opus-mt-en-fr'\n",
    ")"
   ]
  },
  {
   "cell_type": "markdown",
   "metadata": {},
   "source": [
    "Back translation applied on whole sentences change the number of words. It is hence impossible to track the position of labeled words.  \n",
    "We try to use translation on specific words or expressions.  "
   ]
  },
  {
   "cell_type": "code",
   "execution_count": 7,
   "metadata": {},
   "outputs": [],
   "source": [
    "#def find_position(word, text, type):\n",
    "#    '''\n",
    "#    Finds the positions of all the occurences of the word in the text.\n",
    "#    '''\n",
    "#    word_length = len(word)\n",
    "#    first_letter_positions = [m.start() for m in re.finditer(word, text)]\n",
    "#    return [[start, start+word_length, type] for start in first_letter_positions]"
   ]
  },
  {
   "cell_type": "code",
   "execution_count": 8,
   "metadata": {},
   "outputs": [],
   "source": [
    "#def process(text, label_position_list, nlpaug_model):\n",
    "#    '''\n",
    "#    Process back-translation to generate new text.\n",
    "#    Finds the labels in the new text.\n",
    "#\n",
    "#    Input : \n",
    "#        text, str\n",
    "#        label_position_list, list(int, int, str)\n",
    "#    Output : \n",
    "#        transformed_text, str\n",
    "#        new_labels, list(int, int, str)\n",
    "#    '''\n",
    "#    transformed_text= nlpaug_model.augment(text)[0]\n",
    "#\n",
    "#    if len(label_position_list)==0:\n",
    "#        return transformed_text, []\n",
    "#\n",
    "#    # Extract labelled words and back-translate them\n",
    "#    label_list = [text[int(position[0:2][0]): int(position[0:2][1])] for position in np.array(label_position_list)[0:1]] \n",
    "#    transformed_labels = nlpaug_model.augment(label_list)\n",
    "#\n",
    "#    if transformed_text==text:\n",
    "#        print('Back-translation did not change the text.')\n",
    "#        return None, None\n",
    "#    \n",
    "#    # Itterating through the labelled word to see if we can find them in the back-translated text\n",
    "#    new_labels = []\n",
    "#    for label_ind in range(len(label_list)):   \n",
    "#        type = np.array(label_position_list)[:,2][label_ind]\n",
    "#        \n",
    "#        label = label_list[label_ind]\n",
    "#        label_transformed = transformed_labels[label_ind] \n",
    "#        \n",
    "#        # If a labelled word is lost, we drop the back-translation\n",
    "#        if label not in transformed_text and label_transformed not in transformed_text :\n",
    "#            print('Label lost in translation.')\n",
    "#            print(f\"Label: {label}\")\n",
    "#            print(f\"Transformed label: {label_transformed}\")\n",
    "#            return None, None\n",
    "#\n",
    "#        elif label in transformed_text :\n",
    "#            print(f'Label \"{label}\" found in transformed text.')\n",
    "#            new_positions = find_position(label_list[label_ind], transformed_text, type)\n",
    "#            new_labels += new_positions\n",
    "#\n",
    "#        elif label_transformed in transformed_text:\n",
    "#            print(f'Transformed label \"{label_transformed}\" found in transformed text.')\n",
    "#            new_positions = find_position(transformed_labels[label_ind], transformed_text, type)\n",
    "#            new_labels += new_positions\n",
    "#\n",
    "#    return transformed_text, new_labels"
   ]
  },
  {
   "cell_type": "markdown",
   "metadata": {},
   "source": [
    "## Apply back-translating and update dataframe"
   ]
  },
  {
   "cell_type": "code",
   "execution_count": 9,
   "metadata": {},
   "outputs": [
    {
     "name": "stdout",
     "output_type": "stream",
     "text": [
      "Transformed label \"blocage androgène\" found in transformed text.\n",
      "Label \"radiothérapie\" found in transformed text.\n",
      "(2, 6)\n"
     ]
    },
    {
     "data": {
      "text/html": [
       "<div>\n",
       "<style scoped>\n",
       "    .dataframe tbody tr th:only-of-type {\n",
       "        vertical-align: middle;\n",
       "    }\n",
       "\n",
       "    .dataframe tbody tr th {\n",
       "        vertical-align: top;\n",
       "    }\n",
       "\n",
       "    .dataframe thead th {\n",
       "        text-align: right;\n",
       "    }\n",
       "</style>\n",
       "<table border=\"1\" class=\"dataframe\">\n",
       "  <thead>\n",
       "    <tr style=\"text-align: right;\">\n",
       "      <th></th>\n",
       "      <th>id</th>\n",
       "      <th>text</th>\n",
       "      <th>labels</th>\n",
       "      <th>comments</th>\n",
       "      <th>transformed_text</th>\n",
       "      <th>new_labels</th>\n",
       "    </tr>\n",
       "  </thead>\n",
       "  <tbody>\n",
       "    <tr>\n",
       "      <th>0</th>\n",
       "      <td>1</td>\n",
       "      <td>Un homme âgé de 77 ans présentait des signes c...</td>\n",
       "      <td>[[692, 712, Treatment]]</td>\n",
       "      <td>[]</td>\n",
       "      <td>Un mâle de 77 ans a montré des signes clinique...</td>\n",
       "      <td>[[656, 673, Treatment]]</td>\n",
       "    </tr>\n",
       "    <tr>\n",
       "      <th>1</th>\n",
       "      <td>2</td>\n",
       "      <td>Mr. R,R âgé de 53 ans sans antécédents patholo...</td>\n",
       "      <td>[[1224, 1237, Treatment]]</td>\n",
       "      <td>[]</td>\n",
       "      <td>L'examen clinique n'était pas inhabituel. Le t...</td>\n",
       "      <td>[[755, 768, Treatment]]</td>\n",
       "    </tr>\n",
       "  </tbody>\n",
       "</table>\n",
       "</div>"
      ],
      "text/plain": [
       "   id                                               text  \\\n",
       "0   1  Un homme âgé de 77 ans présentait des signes c...   \n",
       "1   2  Mr. R,R âgé de 53 ans sans antécédents patholo...   \n",
       "\n",
       "                      labels comments  \\\n",
       "0    [[692, 712, Treatment]]       []   \n",
       "1  [[1224, 1237, Treatment]]       []   \n",
       "\n",
       "                                    transformed_text               new_labels  \n",
       "0  Un mâle de 77 ans a montré des signes clinique...  [[656, 673, Treatment]]  \n",
       "1  L'examen clinique n'était pas inhabituel. Le t...  [[755, 768, Treatment]]  "
      ]
     },
     "execution_count": 9,
     "metadata": {},
     "output_type": "execute_result"
    }
   ],
   "source": [
    "df2 = df.copy().loc[:1, :]\n",
    "res = df2[[\"text\", \"labels\"]].apply(lambda x: process(x[0], x[1], back_translation_aug), axis=1)\n",
    "df2[[\"transformed_text\", \"new_labels\"]] = pd.DataFrame(res.to_list())\n",
    "df2.to_csv(os.path.join(DATA_PATH, 'data_with_bt.csv'), header=True, index=False)\n",
    "print(df2.shape)\n",
    "df2.head()"
   ]
  },
  {
   "cell_type": "code",
   "execution_count": 7,
   "metadata": {},
   "outputs": [
    {
     "data": {
      "text/html": [
       "<div>\n",
       "<style scoped>\n",
       "    .dataframe tbody tr th:only-of-type {\n",
       "        vertical-align: middle;\n",
       "    }\n",
       "\n",
       "    .dataframe tbody tr th {\n",
       "        vertical-align: top;\n",
       "    }\n",
       "\n",
       "    .dataframe thead th {\n",
       "        text-align: right;\n",
       "    }\n",
       "</style>\n",
       "<table border=\"1\" class=\"dataframe\">\n",
       "  <thead>\n",
       "    <tr style=\"text-align: right;\">\n",
       "      <th></th>\n",
       "      <th>id</th>\n",
       "      <th>text</th>\n",
       "      <th>labels</th>\n",
       "      <th>Comments</th>\n",
       "      <th>transformed_text</th>\n",
       "      <th>new_labels</th>\n",
       "    </tr>\n",
       "  </thead>\n",
       "  <tbody>\n",
       "    <tr>\n",
       "      <th>0</th>\n",
       "      <td>1</td>\n",
       "      <td>Un homme âgé de 77 ans présentait des signes c...</td>\n",
       "      <td>[[692, 712, 'Treatment']]</td>\n",
       "      <td>[]</td>\n",
       "      <td>Un mâle de 77 ans a montré des signes clinique...</td>\n",
       "      <td>[[656, 673, 'Treatment']]</td>\n",
       "    </tr>\n",
       "    <tr>\n",
       "      <th>1</th>\n",
       "      <td>2</td>\n",
       "      <td>Mr. R,R âgé de 53 ans sans antécédents patholo...</td>\n",
       "      <td>[[1224, 1237, 'Treatment']]</td>\n",
       "      <td>[]</td>\n",
       "      <td>L'examen clinique n'était pas inhabituel. Le t...</td>\n",
       "      <td>[[755, 768, 'Treatment']]</td>\n",
       "    </tr>\n",
       "  </tbody>\n",
       "</table>\n",
       "</div>"
      ],
      "text/plain": [
       "   id                                               text  \\\n",
       "0   1  Un homme âgé de 77 ans présentait des signes c...   \n",
       "1   2  Mr. R,R âgé de 53 ans sans antécédents patholo...   \n",
       "\n",
       "                        labels Comments  \\\n",
       "0    [[692, 712, 'Treatment']]       []   \n",
       "1  [[1224, 1237, 'Treatment']]       []   \n",
       "\n",
       "                                    transformed_text  \\\n",
       "0  Un mâle de 77 ans a montré des signes clinique...   \n",
       "1  L'examen clinique n'était pas inhabituel. Le t...   \n",
       "\n",
       "                  new_labels  \n",
       "0  [[656, 673, 'Treatment']]  \n",
       "1  [[755, 768, 'Treatment']]  "
      ]
     },
     "execution_count": 7,
     "metadata": {},
     "output_type": "execute_result"
    }
   ],
   "source": [
    "df = pd.read_csv(os.path.join(DATA_PATH, \"data_with_bt.csv\"))\n",
    "df.head()"
   ]
  },
  {
   "cell_type": "code",
   "execution_count": null,
   "metadata": {},
   "outputs": [],
   "source": []
  }
 ],
 "metadata": {
  "kernelspec": {
   "display_name": "Python 3.9.6 64-bit",
   "language": "python",
   "name": "python3"
  },
  "language_info": {
   "codemirror_mode": {
    "name": "ipython",
    "version": 3
   },
   "file_extension": ".py",
   "mimetype": "text/x-python",
   "name": "python",
   "nbconvert_exporter": "python",
   "pygments_lexer": "ipython3",
   "version": "3.9.6"
  },
  "orig_nbformat": 4,
  "vscode": {
   "interpreter": {
    "hash": "aee8b7b246df8f9039afb4144a1f6fd8d2ca17a180786b69acc140d282b71a49"
   }
  }
 },
 "nbformat": 4,
 "nbformat_minor": 2
}
