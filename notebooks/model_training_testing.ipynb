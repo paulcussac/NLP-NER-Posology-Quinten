{
 "cells": [
  {
   "cell_type": "markdown",
   "id": "ebc02ffc",
   "metadata": {},
   "source": [
    "# SpaCy Model"
   ]
  },
  {
   "cell_type": "markdown",
   "id": "eb511b2d",
   "metadata": {},
   "source": [
    "### Load functions"
   ]
  },
  {
   "cell_type": "code",
   "execution_count": 1,
   "id": "8526115b",
   "metadata": {},
   "outputs": [],
   "source": [
    "import os \n",
    "os.chdir('/Users/Antoine/data_science_projects/3_nlp/drug_prescription_understanding')\n",
    "from src.data_augmentation.back_translation import find_position, process\n",
    "from src.Utils.utils import read_jsonl_df\n",
    "from src.model.data_preprocessing import *\n",
    "from src.model.train import *\n",
    "from src.model.evaluate import *\n",
    "from src.model.testing import *\n",
    "warnings.simplefilter(\"ignore\")\n",
    "os.chdir('/Users/Antoine/data_science_projects/3_nlp/drug_prescription_understanding/notebooks')"
   ]
  },
  {
   "cell_type": "markdown",
   "id": "625a0920",
   "metadata": {},
   "source": [
    "### Load Data"
   ]
  },
  {
   "cell_type": "code",
   "execution_count": 2,
   "id": "e24727e4",
   "metadata": {},
   "outputs": [
    {
     "name": "stdout",
     "output_type": "stream",
     "text": [
      "567\n"
     ]
    }
   ],
   "source": [
    "#Train data\n",
    "DATA_FILE_PATH = \"trainset.jsonl\"\n",
    "\n",
    "ALL_DATA = fillterDoccanoData(DATA_FILE_PATH)\n",
    "ALL_DATA=trim_entity_spans(ALL_DATA)\n",
    "ALL_DATA = validate_overlap(ALL_DATA)\n",
    "print(len(ALL_DATA))"
   ]
  },
  {
   "cell_type": "code",
   "execution_count": 3,
   "id": "001f94b4",
   "metadata": {},
   "outputs": [
    {
     "data": {
      "text/plain": [
       "32557"
      ]
     },
     "execution_count": 3,
     "metadata": {},
     "output_type": "execute_result"
    }
   ],
   "source": [
    "#Test Data\n",
    "import pandas as pd\n",
    "\n",
    "test_df = pd.read_csv(\"test.csv\")\n",
    "len(test_df)"
   ]
  },
  {
   "cell_type": "markdown",
   "id": "1f91fd97",
   "metadata": {},
   "source": [
    "### Train Model"
   ]
  },
  {
   "cell_type": "code",
   "execution_count": 4,
   "id": "52e2ec6f",
   "metadata": {},
   "outputs": [
    {
     "name": "stdout",
     "output_type": "stream",
     "text": [
      "Loaded model 'fr_core_news_md'\n",
      "resuming\n",
      "0.001\n",
      "Starting iteration 0\n",
      "{'ner': 9174.05588734823}\n"
     ]
    }
   ],
   "source": [
    "prdnlp = train_spacy(ALL_DATA, 1)"
   ]
  },
  {
   "cell_type": "markdown",
   "id": "311de90b",
   "metadata": {},
   "source": [
    "### Predict on Train data"
   ]
  },
  {
   "cell_type": "code",
   "execution_count": 5,
   "id": "9467941c",
   "metadata": {},
   "outputs": [],
   "source": [
    "test_data = from_tokens_to_text(test_df)"
   ]
  },
  {
   "cell_type": "code",
   "execution_count": 6,
   "id": "4488c5be",
   "metadata": {},
   "outputs": [],
   "source": [
    "test_text = test_data[\"Texts\"]"
   ]
  },
  {
   "cell_type": "code",
   "execution_count": 7,
   "id": "e64b06b0",
   "metadata": {},
   "outputs": [
    {
     "data": {
      "text/html": [
       "<div>\n",
       "<style scoped>\n",
       "    .dataframe tbody tr th:only-of-type {\n",
       "        vertical-align: middle;\n",
       "    }\n",
       "\n",
       "    .dataframe tbody tr th {\n",
       "        vertical-align: top;\n",
       "    }\n",
       "\n",
       "    .dataframe thead th {\n",
       "        text-align: right;\n",
       "    }\n",
       "</style>\n",
       "<table border=\"1\" class=\"dataframe\">\n",
       "  <thead>\n",
       "    <tr style=\"text-align: right;\">\n",
       "      <th></th>\n",
       "      <th>TokenId</th>\n",
       "      <th>Predicted</th>\n",
       "    </tr>\n",
       "  </thead>\n",
       "  <tbody>\n",
       "    <tr>\n",
       "      <th>0</th>\n",
       "      <td>0</td>\n",
       "      <td>5</td>\n",
       "    </tr>\n",
       "    <tr>\n",
       "      <th>1</th>\n",
       "      <td>1</td>\n",
       "      <td>5</td>\n",
       "    </tr>\n",
       "    <tr>\n",
       "      <th>2</th>\n",
       "      <td>2</td>\n",
       "      <td>5</td>\n",
       "    </tr>\n",
       "    <tr>\n",
       "      <th>3</th>\n",
       "      <td>3</td>\n",
       "      <td>5</td>\n",
       "    </tr>\n",
       "    <tr>\n",
       "      <th>4</th>\n",
       "      <td>4</td>\n",
       "      <td>5</td>\n",
       "    </tr>\n",
       "    <tr>\n",
       "      <th>...</th>\n",
       "      <td>...</td>\n",
       "      <td>...</td>\n",
       "    </tr>\n",
       "    <tr>\n",
       "      <th>32552</th>\n",
       "      <td>32552</td>\n",
       "      <td>5</td>\n",
       "    </tr>\n",
       "    <tr>\n",
       "      <th>32553</th>\n",
       "      <td>32553</td>\n",
       "      <td>5</td>\n",
       "    </tr>\n",
       "    <tr>\n",
       "      <th>32554</th>\n",
       "      <td>32554</td>\n",
       "      <td>5</td>\n",
       "    </tr>\n",
       "    <tr>\n",
       "      <th>32555</th>\n",
       "      <td>32555</td>\n",
       "      <td>5</td>\n",
       "    </tr>\n",
       "    <tr>\n",
       "      <th>32556</th>\n",
       "      <td>32556</td>\n",
       "      <td>5</td>\n",
       "    </tr>\n",
       "  </tbody>\n",
       "</table>\n",
       "<p>32557 rows × 2 columns</p>\n",
       "</div>"
      ],
      "text/plain": [
       "       TokenId Predicted\n",
       "0            0         5\n",
       "1            1         5\n",
       "2            2         5\n",
       "3            3         5\n",
       "4            4         5\n",
       "...        ...       ...\n",
       "32552    32552         5\n",
       "32553    32553         5\n",
       "32554    32554         5\n",
       "32555    32555         5\n",
       "32556    32556         5\n",
       "\n",
       "[32557 rows x 2 columns]"
      ]
     },
     "execution_count": 7,
     "metadata": {},
     "output_type": "execute_result"
    }
   ],
   "source": [
    "predict_test(prdnlp, test_text)"
   ]
  }
 ],
 "metadata": {
  "kernelspec": {
   "display_name": "Python 3.9.6 64-bit",
   "language": "python",
   "name": "python3"
  },
  "language_info": {
   "codemirror_mode": {
    "name": "ipython",
    "version": 3
   },
   "file_extension": ".py",
   "mimetype": "text/x-python",
   "name": "python",
   "nbconvert_exporter": "python",
   "pygments_lexer": "ipython3",
   "version": "3.9.6"
  },
  "vscode": {
   "interpreter": {
    "hash": "aee8b7b246df8f9039afb4144a1f6fd8d2ca17a180786b69acc140d282b71a49"
   }
  }
 },
 "nbformat": 4,
 "nbformat_minor": 5
}
